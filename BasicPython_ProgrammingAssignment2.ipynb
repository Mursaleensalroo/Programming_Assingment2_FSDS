{
 "cells": [
  {
   "cell_type": "code",
   "execution_count": null,
   "metadata": {},
   "outputs": [],
   "source": [
    "## Write a Python program to convert kilometers to miles?\n",
    "kms=float(input())## taking float for flexibility\n",
    "miles=kms*0.621371\n",
    "print(miles)"
   ]
  },
  {
   "cell_type": "code",
   "execution_count": null,
   "metadata": {},
   "outputs": [],
   "source": [
    "## Write a Python program to convert Celsius to Fahrenheit?\n",
    "celsius=float(input())## taking float for flexibility\n",
    "fahrenheit=celsius*9/5+32\n",
    "print(f\"{celsius} degrees is {fahrenheit} F\")\n"
   ]
  },
  {
   "cell_type": "code",
   "execution_count": null,
   "metadata": {},
   "outputs": [],
   "source": [
    "## Write a Python program to display calendar?\n",
    "import calendar\n",
    "calendar.month(2023,2) ## displays calendar of Feb, 2023\n"
   ]
  },
  {
   "cell_type": "code",
   "execution_count": null,
   "metadata": {},
   "outputs": [],
   "source": [
    "import math\n",
    "a=int(input())\n",
    "b=int(input())\n",
    "c=int(input())\n",
    "d=(b**2-4*a*c)\n",
    "solution_1=(-b +math.sqrt(d))/2\n",
    "solution_2=(-b -math.sqrt(d))/2\n",
    "print(f\"The two solutions are: {solution_1} and {solution_2}\")"
   ]
  },
  {
   "cell_type": "code",
   "execution_count": null,
   "metadata": {},
   "outputs": [],
   "source": [
    "## Write a Python program to swap two variables without temp variable?\n",
    "a=1000\n",
    "b=10\n",
    "print(a,b)## displays variables before swapping\n",
    "temp=a\n",
    "a=b\n",
    "b=temp\n",
    "print(a,b)## displays variables after swapping"
   ]
  }
 ],
 "metadata": {
  "kernelspec": {
   "display_name": "base",
   "language": "python",
   "name": "python3"
  },
  "language_info": {
   "codemirror_mode": {
    "name": "ipython",
    "version": 3
   },
   "file_extension": ".py",
   "mimetype": "text/x-python",
   "name": "python",
   "nbconvert_exporter": "python",
   "pygments_lexer": "ipython3",
   "version": "3.9.13"
  },
  "orig_nbformat": 4,
  "vscode": {
   "interpreter": {
    "hash": "b302cdd1e032ee910f5c889c3360c28564c92ad4f326fc3102e39fbe47faee66"
   }
  }
 },
 "nbformat": 4,
 "nbformat_minor": 2
}
